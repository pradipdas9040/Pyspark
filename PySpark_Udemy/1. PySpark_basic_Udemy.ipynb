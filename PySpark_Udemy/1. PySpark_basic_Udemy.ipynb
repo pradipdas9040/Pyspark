{
 "cells": [
  {
   "cell_type": "code",
   "execution_count": 1,
   "id": "eb5ec667",
   "metadata": {},
   "outputs": [],
   "source": [
    "from pyspark.sql import SparkSession"
   ]
  },
  {
   "cell_type": "code",
   "execution_count": 2,
   "id": "f008318e",
   "metadata": {},
   "outputs": [],
   "source": [
    "spark = SparkSession.builder.appName('Basics').getOrCreate()"
   ]
  },
  {
   "cell_type": "code",
   "execution_count": 3,
   "id": "f5c858b0",
   "metadata": {},
   "outputs": [],
   "source": [
    "df = spark.read.option('header','true').csv('Data1.csv', inferSchema=True)"
   ]
  },
  {
   "cell_type": "code",
   "execution_count": 4,
   "id": "74ba7877",
   "metadata": {},
   "outputs": [
    {
     "name": "stdout",
     "output_type": "stream",
     "text": [
      "+----+-------+\n",
      "| Age|   Name|\n",
      "+----+-------+\n",
      "|null|Michael|\n",
      "|  30|   Andy|\n",
      "|  19| Justin|\n",
      "+----+-------+\n",
      "\n"
     ]
    }
   ],
   "source": [
    "df.show()"
   ]
  },
  {
   "cell_type": "code",
   "execution_count": 5,
   "id": "47ed9fca",
   "metadata": {},
   "outputs": [
    {
     "name": "stdout",
     "output_type": "stream",
     "text": [
      "root\n",
      " |-- Age: integer (nullable = true)\n",
      " |-- Name: string (nullable = true)\n",
      "\n"
     ]
    }
   ],
   "source": [
    "df.printSchema()"
   ]
  },
  {
   "cell_type": "code",
   "execution_count": 6,
   "id": "83ea7f7b",
   "metadata": {},
   "outputs": [
    {
     "data": {
      "text/plain": [
       "['Age', 'Name']"
      ]
     },
     "execution_count": 6,
     "metadata": {},
     "output_type": "execute_result"
    }
   ],
   "source": [
    "df.columns"
   ]
  },
  {
   "cell_type": "code",
   "execution_count": 7,
   "id": "fbba0b6c",
   "metadata": {},
   "outputs": [
    {
     "data": {
      "text/plain": [
       "DataFrame[summary: string, Age: string, Name: string]"
      ]
     },
     "execution_count": 7,
     "metadata": {},
     "output_type": "execute_result"
    }
   ],
   "source": [
    "df.describe()"
   ]
  },
  {
   "cell_type": "code",
   "execution_count": 8,
   "id": "e43ffe3b",
   "metadata": {},
   "outputs": [
    {
     "name": "stdout",
     "output_type": "stream",
     "text": [
      "+-------+------------------+-------+\n",
      "|summary|               Age|   Name|\n",
      "+-------+------------------+-------+\n",
      "|  count|                 2|      3|\n",
      "|   mean|              24.5|   null|\n",
      "| stddev|7.7781745930520225|   null|\n",
      "|    min|                19|   Andy|\n",
      "|    max|                30|Michael|\n",
      "+-------+------------------+-------+\n",
      "\n"
     ]
    }
   ],
   "source": [
    "df.describe().show()"
   ]
  },
  {
   "cell_type": "code",
   "execution_count": 9,
   "id": "50cf9045",
   "metadata": {},
   "outputs": [],
   "source": [
    "from pyspark.sql.types import StructField, StringType, IntegerType, StructType"
   ]
  },
  {
   "cell_type": "code",
   "execution_count": 10,
   "id": "9ab4f2e6",
   "metadata": {},
   "outputs": [],
   "source": [
    "data_sc = [StructField('Age', IntegerType(), True),\n",
    "          StructField('Name', StringType(), True)]"
   ]
  },
  {
   "cell_type": "code",
   "execution_count": 11,
   "id": "de25de6e",
   "metadata": {},
   "outputs": [],
   "source": [
    "final_st = StructType(fields=data_sc)"
   ]
  },
  {
   "cell_type": "code",
   "execution_count": 12,
   "id": "63c0c697",
   "metadata": {},
   "outputs": [],
   "source": [
    "df = spark.read.option('header','true').csv('Data1.csv', schema=final_st)"
   ]
  },
  {
   "cell_type": "code",
   "execution_count": 13,
   "id": "1446d945",
   "metadata": {},
   "outputs": [
    {
     "name": "stdout",
     "output_type": "stream",
     "text": [
      "root\n",
      " |-- Age: integer (nullable = true)\n",
      " |-- Name: string (nullable = true)\n",
      "\n"
     ]
    }
   ],
   "source": [
    "df.printSchema()"
   ]
  },
  {
   "cell_type": "code",
   "execution_count": 14,
   "id": "3f7c7e57",
   "metadata": {},
   "outputs": [
    {
     "data": {
      "text/plain": [
       "Column<'Age'>"
      ]
     },
     "execution_count": 14,
     "metadata": {},
     "output_type": "execute_result"
    }
   ],
   "source": [
    "df['Age']"
   ]
  },
  {
   "cell_type": "code",
   "execution_count": 15,
   "id": "5e20da54",
   "metadata": {},
   "outputs": [
    {
     "name": "stdout",
     "output_type": "stream",
     "text": [
      "+----+\n",
      "| Age|\n",
      "+----+\n",
      "|null|\n",
      "|  30|\n",
      "|  19|\n",
      "+----+\n",
      "\n"
     ]
    }
   ],
   "source": [
    "df.select('Age').show()"
   ]
  },
  {
   "cell_type": "code",
   "execution_count": 16,
   "id": "355ce495",
   "metadata": {},
   "outputs": [
    {
     "name": "stdout",
     "output_type": "stream",
     "text": [
      "+----+-------+\n",
      "| Age|   Name|\n",
      "+----+-------+\n",
      "|null|Michael|\n",
      "|  30|   Andy|\n",
      "|  19| Justin|\n",
      "+----+-------+\n",
      "\n"
     ]
    }
   ],
   "source": [
    "df.select(['Age','Name']).show()"
   ]
  },
  {
   "cell_type": "code",
   "execution_count": 17,
   "id": "a6a6cf6d",
   "metadata": {},
   "outputs": [
    {
     "name": "stdout",
     "output_type": "stream",
     "text": [
      "+----+-------+------+\n",
      "| Age|   Name|newage|\n",
      "+----+-------+------+\n",
      "|null|Michael|  null|\n",
      "|  30|   Andy|    32|\n",
      "|  19| Justin|    21|\n",
      "+----+-------+------+\n",
      "\n"
     ]
    }
   ],
   "source": [
    "df.withColumn('newage',df['Age']+2).show()"
   ]
  },
  {
   "cell_type": "code",
   "execution_count": 18,
   "id": "d68887df",
   "metadata": {},
   "outputs": [
    {
     "name": "stdout",
     "output_type": "stream",
     "text": [
      "+----------+-------+\n",
      "|my_new_age|   Name|\n",
      "+----------+-------+\n",
      "|      null|Michael|\n",
      "|        30|   Andy|\n",
      "|        19| Justin|\n",
      "+----------+-------+\n",
      "\n"
     ]
    }
   ],
   "source": [
    "df.withColumnRenamed('Age', 'my_new_age').show()"
   ]
  },
  {
   "cell_type": "code",
   "execution_count": 19,
   "id": "a61c1777",
   "metadata": {},
   "outputs": [],
   "source": [
    "df.createOrReplaceGlobalTempView('people')"
   ]
  },
  {
   "cell_type": "code",
   "execution_count": 20,
   "id": "348b598e",
   "metadata": {},
   "outputs": [],
   "source": [
    "result = spark.sql(\"SELECT * FROM global_temp.people\")"
   ]
  },
  {
   "cell_type": "code",
   "execution_count": 21,
   "id": "10987f5b",
   "metadata": {},
   "outputs": [
    {
     "name": "stdout",
     "output_type": "stream",
     "text": [
      "+----+-------+\n",
      "| Age|   Name|\n",
      "+----+-------+\n",
      "|null|Michael|\n",
      "|  30|   Andy|\n",
      "|  19| Justin|\n",
      "+----+-------+\n",
      "\n"
     ]
    }
   ],
   "source": [
    "result.show()"
   ]
  },
  {
   "cell_type": "code",
   "execution_count": 22,
   "id": "ea8c79d0",
   "metadata": {},
   "outputs": [
    {
     "name": "stdout",
     "output_type": "stream",
     "text": [
      "+---+----+\n",
      "|Age|Name|\n",
      "+---+----+\n",
      "| 30|Andy|\n",
      "+---+----+\n",
      "\n"
     ]
    }
   ],
   "source": [
    "spark.sql(\"SELECT * FROM global_temp.people WHERE Age=30\").show()"
   ]
  },
  {
   "cell_type": "markdown",
   "id": "891b3754",
   "metadata": {},
   "source": [
    "### Spark Dataframe Basic Operation"
   ]
  },
  {
   "cell_type": "code",
   "execution_count": 23,
   "id": "3461de59",
   "metadata": {},
   "outputs": [],
   "source": [
    "df = spark.read.csv('appl_stock.csv', inferSchema=True, header=True)"
   ]
  },
  {
   "cell_type": "code",
   "execution_count": 24,
   "id": "fe8d5fe8",
   "metadata": {},
   "outputs": [
    {
     "name": "stdout",
     "output_type": "stream",
     "text": [
      "root\n",
      " |-- Date: date (nullable = true)\n",
      " |-- Open: double (nullable = true)\n",
      " |-- High: double (nullable = true)\n",
      " |-- Low: double (nullable = true)\n",
      " |-- Close: double (nullable = true)\n",
      " |-- Adj Close: double (nullable = true)\n",
      " |-- Volume: long (nullable = true)\n",
      "\n"
     ]
    }
   ],
   "source": [
    "df.printSchema()"
   ]
  },
  {
   "cell_type": "code",
   "execution_count": 25,
   "id": "5ba92218",
   "metadata": {},
   "outputs": [
    {
     "name": "stdout",
     "output_type": "stream",
     "text": [
      "+----------+--------+--------+--------+--------+---------+---------+\n",
      "|      Date|    Open|    High|     Low|   Close|Adj Close|   Volume|\n",
      "+----------+--------+--------+--------+--------+---------+---------+\n",
      "|1980-12-12|0.128348|0.128906|0.128348|0.128348| 0.100323|469033600|\n",
      "|1980-12-15| 0.12221| 0.12221|0.121652|0.121652| 0.095089|175884800|\n",
      "|1980-12-16|0.113281|0.113281|0.112723|0.112723|  0.08811|105728000|\n",
      "|1980-12-17|0.115513|0.116071|0.115513|0.115513| 0.090291| 86441600|\n",
      "|1980-12-18|0.118862| 0.11942|0.118862|0.118862| 0.092908| 73449600|\n",
      "|1980-12-19|0.126116|0.126674|0.126116|0.126116| 0.098578| 48630400|\n",
      "|1980-12-22|0.132254|0.132813|0.132254|0.132254| 0.103376| 37363200|\n",
      "|1980-12-23|0.137835|0.138393|0.137835|0.137835| 0.107739| 46950400|\n",
      "|1980-12-24|0.145089|0.145647|0.145089|0.145089| 0.113409| 48003200|\n",
      "|1980-12-26|0.158482| 0.15904|0.158482|0.158482| 0.123877| 55574400|\n",
      "|1980-12-29|0.160714|0.161272|0.160714|0.160714| 0.125622| 93161600|\n",
      "|1980-12-30|0.157366|0.157366|0.156808|0.156808| 0.122569| 68880000|\n",
      "|1980-12-31|0.152902|0.152902|0.152344|0.152344|  0.11908| 35750400|\n",
      "|1981-01-02|0.154018|0.155134|0.154018|0.154018| 0.120388| 21660800|\n",
      "|1981-01-05|0.151228|0.151228| 0.15067| 0.15067| 0.117771| 35728000|\n",
      "|1981-01-06|0.144531|0.144531|0.143973|0.143973| 0.112536| 45158400|\n",
      "|1981-01-07|0.138393|0.138393|0.137835|0.137835| 0.107739| 55686400|\n",
      "|1981-01-08|0.135603|0.135603|0.135045|0.135045| 0.105558| 39827200|\n",
      "|1981-01-09|0.142299|0.142857|0.142299|0.142299| 0.111228| 21504000|\n",
      "|1981-01-12|0.142299|0.142299|0.141183|0.141183| 0.110356| 23699200|\n",
      "+----------+--------+--------+--------+--------+---------+---------+\n",
      "only showing top 20 rows\n",
      "\n"
     ]
    }
   ],
   "source": [
    "df.show()"
   ]
  },
  {
   "cell_type": "code",
   "execution_count": 26,
   "id": "f9462b22",
   "metadata": {},
   "outputs": [
    {
     "name": "stdout",
     "output_type": "stream",
     "text": [
      "+----------+--------+--------+--------+--------+---------+---------+\n",
      "|      Date|    Open|    High|     Low|   Close|Adj Close|   Volume|\n",
      "+----------+--------+--------+--------+--------+---------+---------+\n",
      "|1980-12-12|0.128348|0.128906|0.128348|0.128348| 0.100323|469033600|\n",
      "|1980-12-15| 0.12221| 0.12221|0.121652|0.121652| 0.095089|175884800|\n",
      "|1980-12-16|0.113281|0.113281|0.112723|0.112723|  0.08811|105728000|\n",
      "|1980-12-17|0.115513|0.116071|0.115513|0.115513| 0.090291| 86441600|\n",
      "|1980-12-18|0.118862| 0.11942|0.118862|0.118862| 0.092908| 73449600|\n",
      "|1980-12-19|0.126116|0.126674|0.126116|0.126116| 0.098578| 48630400|\n",
      "|1980-12-22|0.132254|0.132813|0.132254|0.132254| 0.103376| 37363200|\n",
      "|1980-12-23|0.137835|0.138393|0.137835|0.137835| 0.107739| 46950400|\n",
      "|1980-12-24|0.145089|0.145647|0.145089|0.145089| 0.113409| 48003200|\n",
      "|1980-12-26|0.158482| 0.15904|0.158482|0.158482| 0.123877| 55574400|\n",
      "|1980-12-29|0.160714|0.161272|0.160714|0.160714| 0.125622| 93161600|\n",
      "|1980-12-30|0.157366|0.157366|0.156808|0.156808| 0.122569| 68880000|\n",
      "|1980-12-31|0.152902|0.152902|0.152344|0.152344|  0.11908| 35750400|\n",
      "|1981-01-02|0.154018|0.155134|0.154018|0.154018| 0.120388| 21660800|\n",
      "|1981-01-05|0.151228|0.151228| 0.15067| 0.15067| 0.117771| 35728000|\n",
      "|1981-01-06|0.144531|0.144531|0.143973|0.143973| 0.112536| 45158400|\n",
      "|1981-01-07|0.138393|0.138393|0.137835|0.137835| 0.107739| 55686400|\n",
      "|1981-01-08|0.135603|0.135603|0.135045|0.135045| 0.105558| 39827200|\n",
      "|1981-01-09|0.142299|0.142857|0.142299|0.142299| 0.111228| 21504000|\n",
      "|1981-01-12|0.142299|0.142299|0.141183|0.141183| 0.110356| 23699200|\n",
      "+----------+--------+--------+--------+--------+---------+---------+\n",
      "only showing top 20 rows\n",
      "\n"
     ]
    }
   ],
   "source": [
    "df.filter('Close < 500').show()"
   ]
  },
  {
   "cell_type": "code",
   "execution_count": 27,
   "id": "efdab480",
   "metadata": {},
   "outputs": [
    {
     "name": "stdout",
     "output_type": "stream",
     "text": [
      "+--------+--------+\n",
      "|    Open|   Close|\n",
      "+--------+--------+\n",
      "|0.128348|0.128348|\n",
      "| 0.12221|0.121652|\n",
      "|0.113281|0.112723|\n",
      "|0.115513|0.115513|\n",
      "|0.118862|0.118862|\n",
      "|0.126116|0.126116|\n",
      "|0.132254|0.132254|\n",
      "|0.137835|0.137835|\n",
      "|0.145089|0.145089|\n",
      "|0.158482|0.158482|\n",
      "|0.160714|0.160714|\n",
      "|0.157366|0.156808|\n",
      "|0.152902|0.152344|\n",
      "|0.154018|0.154018|\n",
      "|0.151228| 0.15067|\n",
      "|0.144531|0.143973|\n",
      "|0.138393|0.137835|\n",
      "|0.135603|0.135045|\n",
      "|0.142299|0.142299|\n",
      "|0.142299|0.141183|\n",
      "+--------+--------+\n",
      "only showing top 20 rows\n",
      "\n"
     ]
    }
   ],
   "source": [
    "df.filter('Close < 500').select(['Open','Close']).show()"
   ]
  },
  {
   "cell_type": "code",
   "execution_count": 28,
   "id": "fad7f225",
   "metadata": {},
   "outputs": [
    {
     "name": "stdout",
     "output_type": "stream",
     "text": [
      "+----------+--------+--------+--------+--------+---------+---------+\n",
      "|      Date|    Open|    High|     Low|   Close|Adj Close|   Volume|\n",
      "+----------+--------+--------+--------+--------+---------+---------+\n",
      "|1980-12-12|0.128348|0.128906|0.128348|0.128348| 0.100323|469033600|\n",
      "|1980-12-15| 0.12221| 0.12221|0.121652|0.121652| 0.095089|175884800|\n",
      "|1980-12-16|0.113281|0.113281|0.112723|0.112723|  0.08811|105728000|\n",
      "|1980-12-17|0.115513|0.116071|0.115513|0.115513| 0.090291| 86441600|\n",
      "|1980-12-18|0.118862| 0.11942|0.118862|0.118862| 0.092908| 73449600|\n",
      "|1980-12-19|0.126116|0.126674|0.126116|0.126116| 0.098578| 48630400|\n",
      "|1980-12-22|0.132254|0.132813|0.132254|0.132254| 0.103376| 37363200|\n",
      "|1980-12-23|0.137835|0.138393|0.137835|0.137835| 0.107739| 46950400|\n",
      "|1980-12-24|0.145089|0.145647|0.145089|0.145089| 0.113409| 48003200|\n",
      "|1980-12-26|0.158482| 0.15904|0.158482|0.158482| 0.123877| 55574400|\n",
      "|1980-12-29|0.160714|0.161272|0.160714|0.160714| 0.125622| 93161600|\n",
      "|1980-12-30|0.157366|0.157366|0.156808|0.156808| 0.122569| 68880000|\n",
      "|1980-12-31|0.152902|0.152902|0.152344|0.152344|  0.11908| 35750400|\n",
      "|1981-01-02|0.154018|0.155134|0.154018|0.154018| 0.120388| 21660800|\n",
      "|1981-01-05|0.151228|0.151228| 0.15067| 0.15067| 0.117771| 35728000|\n",
      "|1981-01-06|0.144531|0.144531|0.143973|0.143973| 0.112536| 45158400|\n",
      "|1981-01-07|0.138393|0.138393|0.137835|0.137835| 0.107739| 55686400|\n",
      "|1981-01-08|0.135603|0.135603|0.135045|0.135045| 0.105558| 39827200|\n",
      "|1981-01-09|0.142299|0.142857|0.142299|0.142299| 0.111228| 21504000|\n",
      "|1981-01-12|0.142299|0.142299|0.141183|0.141183| 0.110356| 23699200|\n",
      "+----------+--------+--------+--------+--------+---------+---------+\n",
      "only showing top 20 rows\n",
      "\n"
     ]
    }
   ],
   "source": [
    "df.filter((df['Close'] < 500) & (df['Open'] > 0)).show()"
   ]
  },
  {
   "cell_type": "code",
   "execution_count": 29,
   "id": "79914e9c",
   "metadata": {},
   "outputs": [
    {
     "data": {
      "text/plain": [
       "[Row(Date=datetime.date(1980, 12, 12), Open=0.128348, High=0.128906, Low=0.128348, Close=0.128348, Adj Close=0.100323, Volume=469033600),\n",
       " Row(Date=datetime.date(1981, 2, 6), Open=0.128348, High=0.128906, Low=0.128348, Close=0.128348, Adj Close=0.100323, Volume=13865600),\n",
       " Row(Date=datetime.date(1981, 4, 27), Open=0.128906, High=0.128906, Low=0.128348, Close=0.128348, Adj Close=0.100323, Volume=38528000),\n",
       " Row(Date=datetime.date(1982, 11, 8), Open=0.134487, High=0.135603, Low=0.128348, Close=0.128906, Adj Close=0.100759, Volume=119190400),\n",
       " Row(Date=datetime.date(1982, 11, 9), Open=0.128906, High=0.134487, Low=0.128348, Close=0.133371, Adj Close=0.104249, Volume=179782400),\n",
       " Row(Date=datetime.date(1982, 11, 24), Open=0.128906, High=0.136161, Low=0.128348, Close=0.131696, Adj Close=0.10294, Volume=73740800),\n",
       " Row(Date=datetime.date(1982, 11, 30), Open=0.128906, High=0.142857, Low=0.128348, Close=0.142299, Adj Close=0.111228, Volume=159196800),\n",
       " Row(Date=datetime.date(1983, 1, 11), Open=0.128348, High=0.131696, Low=0.128348, Close=0.130022, Adj Close=0.101632, Volume=1388800),\n",
       " Row(Date=datetime.date(1984, 5, 17), Open=0.136161, High=0.136161, Low=0.128348, Close=0.130022, Adj Close=0.101632, Volume=281948800),\n",
       " Row(Date=datetime.date(1984, 5, 18), Open=0.130022, High=0.133371, Low=0.128348, Close=0.132813, Adj Close=0.103813, Volume=193468800),\n",
       " Row(Date=datetime.date(1984, 5, 31), Open=0.129464, High=0.132813, Low=0.128348, Close=0.131138, Adj Close=0.102504, Volume=167014400),\n",
       " Row(Date=datetime.date(1984, 6, 14), Open=0.132813, High=0.132813, Low=0.128348, Close=0.128906, Adj Close=0.100759, Volume=100956800),\n",
       " Row(Date=datetime.date(1984, 6, 20), Open=0.131138, High=0.135045, Low=0.128348, Close=0.135045, Adj Close=0.105558, Volume=119526400),\n",
       " Row(Date=datetime.date(1985, 1, 9), Open=0.128348, High=0.130022, Low=0.128348, Close=0.128348, Adj Close=0.100323, Volume=166723200),\n",
       " Row(Date=datetime.date(1986, 4, 18), Open=0.129464, High=0.133371, Low=0.128348, Close=0.132813, Adj Close=0.103813, Volume=247676800)]"
      ]
     },
     "execution_count": 29,
     "metadata": {},
     "output_type": "execute_result"
    }
   ],
   "source": [
    "result = df.filter(df['Low'] == 0.128348).collect()\n",
    "result"
   ]
  },
  {
   "cell_type": "code",
   "execution_count": 30,
   "id": "25e0f1ad",
   "metadata": {},
   "outputs": [
    {
     "data": {
      "text/plain": [
       "{'Date': datetime.date(1980, 12, 12),\n",
       " 'Open': 0.128348,\n",
       " 'High': 0.128906,\n",
       " 'Low': 0.128348,\n",
       " 'Close': 0.128348,\n",
       " 'Adj Close': 0.100323,\n",
       " 'Volume': 469033600}"
      ]
     },
     "execution_count": 30,
     "metadata": {},
     "output_type": "execute_result"
    }
   ],
   "source": [
    "row_1 = result[0]\n",
    "row_1.asDict()"
   ]
  },
  {
   "cell_type": "markdown",
   "id": "0969c601",
   "metadata": {},
   "source": [
    "### GroupBy and Aggregate Function"
   ]
  },
  {
   "cell_type": "code",
   "execution_count": 31,
   "id": "b2169626",
   "metadata": {},
   "outputs": [],
   "source": [
    "df = spark.read.csv('sales_data_sample.csv', inferSchema=True, header=True)"
   ]
  },
  {
   "cell_type": "code",
   "execution_count": 32,
   "id": "4b1b7955",
   "metadata": {},
   "outputs": [
    {
     "name": "stdout",
     "output_type": "stream",
     "text": [
      "+-------+-----------+--------------------+\n",
      "|  Sales|    Company|              Person|\n",
      "+-------+-----------+--------------------+\n",
      "| 2871.0|Motorcycles|   Land of Toys Inc.|\n",
      "| 2765.9|Motorcycles|  Reims Collectables|\n",
      "|3884.34|Motorcycles|     Lyon Souveniers|\n",
      "| 3746.7|Motorcycles|   Toys4GrownUps.com|\n",
      "|5205.27|Motorcycles|Corporate Gift Id...|\n",
      "|3479.76|Motorcycles|Technics Stores Inc.|\n",
      "|2497.77|Motorcycles|Daedalus Designs ...|\n",
      "|5512.32|Motorcycles|        Herkku Gifts|\n",
      "|2168.54|Motorcycles|     Mini Wheels Co.|\n",
      "|4708.44|Motorcycles|    Auto Canal Petit|\n",
      "|3965.66|Motorcycles|Australian Collec...|\n",
      "|2333.12|Motorcycles|     Vitachrome Inc.|\n",
      "|3188.64|Motorcycles|Tekni Collectable...|\n",
      "|3676.76|Motorcycles|     Gift Depot Inc.|\n",
      "|4177.35|Motorcycles|   La Rochelle Gifts|\n",
      "|4099.68|Motorcycles|Marta's Replicas Co.|\n",
      "|2597.39|Motorcycles|Toys of Finland, Co.|\n",
      "|4394.38|Motorcycles|  Baane Mini Imports|\n",
      "|4358.04|Motorcycles|Diecast Classics ...|\n",
      "|4396.14|Motorcycles|   Land of Toys Inc.|\n",
      "+-------+-----------+--------------------+\n",
      "only showing top 20 rows\n",
      "\n"
     ]
    }
   ],
   "source": [
    "df.show()"
   ]
  },
  {
   "cell_type": "code",
   "execution_count": 33,
   "id": "07b270ce",
   "metadata": {},
   "outputs": [
    {
     "name": "stdout",
     "output_type": "stream",
     "text": [
      "root\n",
      " |-- Sales: double (nullable = true)\n",
      " |-- Company: string (nullable = true)\n",
      " |-- Person: string (nullable = true)\n",
      "\n"
     ]
    }
   ],
   "source": [
    "df.printSchema()"
   ]
  },
  {
   "cell_type": "code",
   "execution_count": 34,
   "id": "e9af10c4",
   "metadata": {},
   "outputs": [
    {
     "name": "stdout",
     "output_type": "stream",
     "text": [
      "+----------------+------------------+\n",
      "|         Company|        avg(Sales)|\n",
      "+----------------+------------------+\n",
      "|     Motorcycles| 3523.831842900303|\n",
      "|    Vintage Cars|3135.3391103789113|\n",
      "|           Ships| 3053.150128205128|\n",
      "|Trucks and Buses|3746.8100996677726|\n",
      "|    Classic Cars|4053.3771044467394|\n",
      "|          Trains|2938.2268831168826|\n",
      "|          Planes|3186.2861764705885|\n",
      "+----------------+------------------+\n",
      "\n"
     ]
    }
   ],
   "source": [
    "df.groupBy('Company').mean().show()"
   ]
  },
  {
   "cell_type": "code",
   "execution_count": 35,
   "id": "437157ad",
   "metadata": {},
   "outputs": [
    {
     "name": "stdout",
     "output_type": "stream",
     "text": [
      "+-------------------+\n",
      "|         sum(Sales)|\n",
      "+-------------------+\n",
      "|1.003262885000001E7|\n",
      "+-------------------+\n",
      "\n"
     ]
    }
   ],
   "source": [
    "df.agg({'Sales':'Sum'}).show()"
   ]
  },
  {
   "cell_type": "code",
   "execution_count": 36,
   "id": "fc9d34f3",
   "metadata": {},
   "outputs": [],
   "source": [
    "group_data = df.groupBy('Company')"
   ]
  },
  {
   "cell_type": "code",
   "execution_count": 37,
   "id": "cb671952",
   "metadata": {},
   "outputs": [
    {
     "name": "stdout",
     "output_type": "stream",
     "text": [
      "+----------------+----------+\n",
      "|         Company|max(Sales)|\n",
      "+----------------+----------+\n",
      "|     Motorcycles|   11886.6|\n",
      "|    Vintage Cars|   14082.8|\n",
      "|           Ships|   6960.48|\n",
      "|Trucks and Buses|   8844.12|\n",
      "|    Classic Cars|   12001.0|\n",
      "|          Trains|   8977.05|\n",
      "|          Planes|   10066.6|\n",
      "+----------------+----------+\n",
      "\n"
     ]
    }
   ],
   "source": [
    "group_data.agg({'Sales':'max'}).show()"
   ]
  },
  {
   "cell_type": "code",
   "execution_count": 38,
   "id": "83bfbb43",
   "metadata": {},
   "outputs": [],
   "source": [
    "from pyspark.sql.functions import countDistinct, avg, stddev"
   ]
  },
  {
   "cell_type": "code",
   "execution_count": 39,
   "id": "eae63aa1",
   "metadata": {},
   "outputs": [
    {
     "name": "stdout",
     "output_type": "stream",
     "text": [
      "+---------------------+\n",
      "|count(DISTINCT Sales)|\n",
      "+---------------------+\n",
      "|                 2763|\n",
      "+---------------------+\n",
      "\n"
     ]
    }
   ],
   "source": [
    "df.select(countDistinct('Sales')).show()"
   ]
  },
  {
   "cell_type": "code",
   "execution_count": 40,
   "id": "b57a9c19",
   "metadata": {},
   "outputs": [
    {
     "name": "stdout",
     "output_type": "stream",
     "text": [
      "+----------------+\n",
      "|   Average Sales|\n",
      "+----------------+\n",
      "|3553.88907190932|\n",
      "+----------------+\n",
      "\n"
     ]
    }
   ],
   "source": [
    "df.select(avg('Sales').alias('Average Sales')).show()"
   ]
  },
  {
   "cell_type": "code",
   "execution_count": 41,
   "id": "a9ea4f95",
   "metadata": {},
   "outputs": [
    {
     "name": "stdout",
     "output_type": "stream",
     "text": [
      "+------------------+\n",
      "|stddev_samp(Sales)|\n",
      "+------------------+\n",
      "|1841.8651057401842|\n",
      "+------------------+\n",
      "\n"
     ]
    }
   ],
   "source": [
    "df.select(stddev('Sales')).show()"
   ]
  },
  {
   "cell_type": "code",
   "execution_count": 42,
   "id": "1cb5adaa",
   "metadata": {},
   "outputs": [],
   "source": [
    "from pyspark.sql.functions import format_number"
   ]
  },
  {
   "cell_type": "code",
   "execution_count": 43,
   "id": "c902683a",
   "metadata": {},
   "outputs": [
    {
     "name": "stdout",
     "output_type": "stream",
     "text": [
      "+--------+\n",
      "|     std|\n",
      "+--------+\n",
      "|1,841.87|\n",
      "+--------+\n",
      "\n"
     ]
    }
   ],
   "source": [
    "sales_std = df.select(stddev('Sales').alias('std'))\n",
    "sales_std.select(format_number('std', 2).alias('std')).show()"
   ]
  },
  {
   "cell_type": "code",
   "execution_count": 44,
   "id": "48619270",
   "metadata": {},
   "outputs": [
    {
     "name": "stdout",
     "output_type": "stream",
     "text": [
      "+------+----------------+--------------------+\n",
      "| Sales|         Company|              Person|\n",
      "+------+----------------+--------------------+\n",
      "|482.13|Trucks and Buses|   La Rochelle Gifts|\n",
      "|541.14|    Vintage Cars|The Sharp Gifts W...|\n",
      "|553.95|    Vintage Cars|Tokyo Collectable...|\n",
      "| 577.6|    Vintage Cars|  Amica Models & Co.|\n",
      "|640.05|    Classic Cars|Salzburg Collecta...|\n",
      "| 651.8|     Motorcycles|   Gifts4AllAges.com|\n",
      "|652.35|    Vintage Cars|Souveniers And Th...|\n",
      "| 683.8|    Vintage Cars|Corrida Auto Repl...|\n",
      "| 694.6|    Vintage Cars|  Auto Assoc. & Cie.|\n",
      "| 703.6|    Vintage Cars|Marseille Mini Autos|\n",
      "| 710.2|    Vintage Cars|      AV Stores, Co.|\n",
      "| 717.4|    Classic Cars|Mini Gifts Distri...|\n",
      "|721.44|    Classic Cars|La Corne D'abonda...|\n",
      "| 728.4|Trucks and Buses|Euro Shopping Cha...|\n",
      "|733.11|     Motorcycles|   La Rochelle Gifts|\n",
      "|759.46|    Vintage Cars|Australian Collec...|\n",
      "| 777.0|    Classic Cars|Euro Shopping Cha...|\n",
      "|785.64|    Vintage Cars|    Handji Gifts& Co|\n",
      "| 813.2|    Classic Cars|Diecast Classics ...|\n",
      "| 820.4|    Vintage Cars|Euro Shopping Cha...|\n",
      "+------+----------------+--------------------+\n",
      "only showing top 20 rows\n",
      "\n"
     ]
    }
   ],
   "source": [
    "df.orderBy('Sales').show()"
   ]
  },
  {
   "cell_type": "code",
   "execution_count": 45,
   "id": "d5d8a886",
   "metadata": {},
   "outputs": [
    {
     "name": "stdout",
     "output_type": "stream",
     "text": [
      "+-------+------------+--------------------+\n",
      "|  Sales|     Company|              Person|\n",
      "+-------+------------+--------------------+\n",
      "|14082.8|Vintage Cars|The Sharp Gifts W...|\n",
      "|12536.5|Vintage Cars|Online Diecast Cr...|\n",
      "|12001.0|Classic Cars|Euro Shopping Cha...|\n",
      "|11887.8|Classic Cars|Euro Shopping Cha...|\n",
      "|11886.6| Motorcycles|UK Collectables, ...|\n",
      "|11739.7|Classic Cars|         Mini Caravy|\n",
      "|11623.7|Classic Cars|Mini Gifts Distri...|\n",
      "|11336.7|Vintage Cars|     Mini Wheels Co.|\n",
      "|11279.2|Classic Cars|  Muscle Machine Inc|\n",
      "|10993.5|Classic Cars|Dragon Souveniers...|\n",
      "|10758.0|Vintage Cars|Tokyo Collectable...|\n",
      "|10606.2|Classic Cars| Suominen Souveniers|\n",
      "|10468.9|Classic Cars|Danish Wholesale ...|\n",
      "|10172.7|Classic Cars|  Auto Assoc. & Cie.|\n",
      "|10066.6|      Planes|    FunGiftIdeas.com|\n",
      "|10039.6|      Planes|   La Rochelle Gifts|\n",
      "|9774.03| Motorcycles|Australian Collec...|\n",
      "| 9720.0|Vintage Cars|     Lyon Souveniers|\n",
      "|9661.44|Classic Cars|The Sharp Gifts W...|\n",
      "| 9631.0|Classic Cars|Online Mini Colle...|\n",
      "+-------+------------+--------------------+\n",
      "only showing top 20 rows\n",
      "\n"
     ]
    }
   ],
   "source": [
    "df.orderBy(df['Sales'].desc()).show()"
   ]
  },
  {
   "cell_type": "markdown",
   "id": "f9795bb0",
   "metadata": {},
   "source": [
    "### Missing Data"
   ]
  },
  {
   "cell_type": "code",
   "execution_count": 46,
   "id": "c5e07ed9",
   "metadata": {},
   "outputs": [
    {
     "name": "stdout",
     "output_type": "stream",
     "text": [
      "+---+-------+-----+\n",
      "| Id|   Name|Sales|\n",
      "+---+-------+-----+\n",
      "|  1|Michael| null|\n",
      "|  2|   null| null|\n",
      "|  3|   null|345.0|\n",
      "|  4|  Cindy|456.1|\n",
      "+---+-------+-----+\n",
      "\n"
     ]
    }
   ],
   "source": [
    "df = spark.read.csv('Data_1.csv', inferSchema=True, header=True)\n",
    "df.show()"
   ]
  },
  {
   "cell_type": "code",
   "execution_count": 47,
   "id": "668825c2",
   "metadata": {},
   "outputs": [
    {
     "name": "stdout",
     "output_type": "stream",
     "text": [
      "+---+-----+-----+\n",
      "| Id| Name|Sales|\n",
      "+---+-----+-----+\n",
      "|  4|Cindy|456.1|\n",
      "+---+-----+-----+\n",
      "\n"
     ]
    }
   ],
   "source": [
    "df.na.drop().show()"
   ]
  },
  {
   "cell_type": "code",
   "execution_count": 48,
   "id": "965d4037",
   "metadata": {},
   "outputs": [
    {
     "name": "stdout",
     "output_type": "stream",
     "text": [
      "+---+-------+-----+\n",
      "| Id|   Name|Sales|\n",
      "+---+-------+-----+\n",
      "|  1|Michael| null|\n",
      "|  3|   null|345.0|\n",
      "|  4|  Cindy|456.1|\n",
      "+---+-------+-----+\n",
      "\n"
     ]
    }
   ],
   "source": [
    "df.na.drop(thresh=2).show()"
   ]
  },
  {
   "cell_type": "code",
   "execution_count": 49,
   "id": "83f17269",
   "metadata": {},
   "outputs": [
    {
     "name": "stdout",
     "output_type": "stream",
     "text": [
      "+---+-------+-----+\n",
      "| Id|   Name|Sales|\n",
      "+---+-------+-----+\n",
      "|  1|Michael| null|\n",
      "|  2|   null| null|\n",
      "|  3|   null|345.0|\n",
      "|  4|  Cindy|456.1|\n",
      "+---+-------+-----+\n",
      "\n"
     ]
    }
   ],
   "source": [
    "df.na.drop(how='all').show()"
   ]
  },
  {
   "cell_type": "code",
   "execution_count": 50,
   "id": "2e6395b1",
   "metadata": {},
   "outputs": [
    {
     "name": "stdout",
     "output_type": "stream",
     "text": [
      "+---+-----+-----+\n",
      "| Id| Name|Sales|\n",
      "+---+-----+-----+\n",
      "|  3| null|345.0|\n",
      "|  4|Cindy|456.1|\n",
      "+---+-----+-----+\n",
      "\n"
     ]
    }
   ],
   "source": [
    "df.na.drop(subset=['Sales']).show()"
   ]
  },
  {
   "cell_type": "code",
   "execution_count": 51,
   "id": "81f86b69",
   "metadata": {},
   "outputs": [
    {
     "name": "stdout",
     "output_type": "stream",
     "text": [
      "+---+-----------+-----+\n",
      "| Id|       Name|Sales|\n",
      "+---+-----------+-----+\n",
      "|  1|    Michael| null|\n",
      "|  2|Fill Values| null|\n",
      "|  3|Fill Values|345.0|\n",
      "|  4|      Cindy|456.1|\n",
      "+---+-----------+-----+\n",
      "\n"
     ]
    }
   ],
   "source": [
    "df.na.fill('Fill Values').show()"
   ]
  },
  {
   "cell_type": "code",
   "execution_count": 52,
   "id": "51f0a7b5",
   "metadata": {},
   "outputs": [
    {
     "name": "stdout",
     "output_type": "stream",
     "text": [
      "+---+-------+-----+\n",
      "| Id|   Name|Sales|\n",
      "+---+-------+-----+\n",
      "|  1|Michael| null|\n",
      "|  2|No Name| null|\n",
      "|  3|No Name|345.0|\n",
      "|  4|  Cindy|456.1|\n",
      "+---+-------+-----+\n",
      "\n"
     ]
    }
   ],
   "source": [
    "df.na.fill('No Name', subset=['Name']).show()"
   ]
  },
  {
   "cell_type": "code",
   "execution_count": 53,
   "id": "ca9e6c08",
   "metadata": {},
   "outputs": [],
   "source": [
    "from pyspark.sql.functions import mean"
   ]
  },
  {
   "cell_type": "code",
   "execution_count": 54,
   "id": "baf72dce",
   "metadata": {},
   "outputs": [
    {
     "name": "stdout",
     "output_type": "stream",
     "text": [
      "[Row(avg(Sales)=400.55)]\n",
      "Row(avg(Sales)=400.55)\n",
      "400.55\n"
     ]
    }
   ],
   "source": [
    "mean_val = df.select(mean(df['Sales'])).collect()\n",
    "print(mean_val)\n",
    "print(mean_val[0])\n",
    "print(mean_val[0][0])"
   ]
  },
  {
   "cell_type": "code",
   "execution_count": 55,
   "id": "5be8ef57",
   "metadata": {},
   "outputs": [
    {
     "name": "stdout",
     "output_type": "stream",
     "text": [
      "+---+-------+------+\n",
      "| Id|   Name| Sales|\n",
      "+---+-------+------+\n",
      "|  1|Michael|400.55|\n",
      "|  2|   null|400.55|\n",
      "|  3|   null| 345.0|\n",
      "|  4|  Cindy| 456.1|\n",
      "+---+-------+------+\n",
      "\n"
     ]
    }
   ],
   "source": [
    "df.na.fill(mean_val[0][0], subset=['Sales']).show()"
   ]
  },
  {
   "cell_type": "code",
   "execution_count": 56,
   "id": "23adb713",
   "metadata": {},
   "outputs": [
    {
     "name": "stdout",
     "output_type": "stream",
     "text": [
      "+---+-------+------+\n",
      "| Id|   Name| Sales|\n",
      "+---+-------+------+\n",
      "|  1|Michael|400.55|\n",
      "|  2|   null|400.55|\n",
      "|  3|   null| 345.0|\n",
      "|  4|  Cindy| 456.1|\n",
      "+---+-------+------+\n",
      "\n"
     ]
    }
   ],
   "source": [
    "df.na.fill(df.select(mean(df['Sales'])).collect()[0][0], ['Sales']).show()"
   ]
  },
  {
   "cell_type": "markdown",
   "id": "81428d8e",
   "metadata": {},
   "source": [
    "### Date & Timestamps"
   ]
  },
  {
   "cell_type": "code",
   "execution_count": 57,
   "id": "4915ff01",
   "metadata": {},
   "outputs": [],
   "source": [
    "df = spark.read.csv('appl_stock.csv', inferSchema=True, header=True)"
   ]
  },
  {
   "cell_type": "code",
   "execution_count": 58,
   "id": "40c66030",
   "metadata": {},
   "outputs": [
    {
     "data": {
      "text/plain": [
       "[Row(Date=datetime.date(1980, 12, 12), Open=0.128348, High=0.128906, Low=0.128348, Close=0.128348, Adj Close=0.100323, Volume=469033600)]"
      ]
     },
     "execution_count": 58,
     "metadata": {},
     "output_type": "execute_result"
    }
   ],
   "source": [
    "df.head(1)"
   ]
  },
  {
   "cell_type": "code",
   "execution_count": 59,
   "id": "6dbe8ade",
   "metadata": {},
   "outputs": [],
   "source": [
    "from pyspark.sql.functions import dayofmonth, hour, dayofyear, month, year, weekofyear, format_number, date_format"
   ]
  },
  {
   "cell_type": "code",
   "execution_count": 60,
   "id": "b1f92c70",
   "metadata": {},
   "outputs": [
    {
     "name": "stdout",
     "output_type": "stream",
     "text": [
      "+----------------+\n",
      "|dayofmonth(Date)|\n",
      "+----------------+\n",
      "|              12|\n",
      "|              15|\n",
      "|              16|\n",
      "|              17|\n",
      "|              18|\n",
      "|              19|\n",
      "|              22|\n",
      "|              23|\n",
      "|              24|\n",
      "|              26|\n",
      "|              29|\n",
      "|              30|\n",
      "|              31|\n",
      "|               2|\n",
      "|               5|\n",
      "|               6|\n",
      "|               7|\n",
      "|               8|\n",
      "|               9|\n",
      "|              12|\n",
      "+----------------+\n",
      "only showing top 20 rows\n",
      "\n"
     ]
    }
   ],
   "source": [
    "df.select(dayofmonth(df['Date'])).show()"
   ]
  },
  {
   "cell_type": "code",
   "execution_count": 61,
   "id": "11179061",
   "metadata": {},
   "outputs": [
    {
     "name": "stdout",
     "output_type": "stream",
     "text": [
      "+----------+\n",
      "|year(Date)|\n",
      "+----------+\n",
      "|      1980|\n",
      "|      1980|\n",
      "|      1980|\n",
      "|      1980|\n",
      "|      1980|\n",
      "|      1980|\n",
      "|      1980|\n",
      "|      1980|\n",
      "|      1980|\n",
      "|      1980|\n",
      "|      1980|\n",
      "|      1980|\n",
      "|      1980|\n",
      "|      1981|\n",
      "|      1981|\n",
      "|      1981|\n",
      "|      1981|\n",
      "|      1981|\n",
      "|      1981|\n",
      "|      1981|\n",
      "+----------+\n",
      "only showing top 20 rows\n",
      "\n"
     ]
    }
   ],
   "source": [
    "df.select(year(df[\"Date\"])).show()"
   ]
  },
  {
   "cell_type": "code",
   "execution_count": 62,
   "id": "297069ba",
   "metadata": {},
   "outputs": [],
   "source": [
    "newdf = df.withColumn('Year', year(df['Date']))"
   ]
  },
  {
   "cell_type": "code",
   "execution_count": 63,
   "id": "7fa31f7e",
   "metadata": {},
   "outputs": [
    {
     "name": "stdout",
     "output_type": "stream",
     "text": [
      "+----+-------------------+-------------------+-------------------+-------------------+-------------------+--------------------+---------+\n",
      "|Year|          avg(Open)|          avg(High)|           avg(Low)|         avg(Close)|     avg(Adj Close)|         avg(Volume)|avg(Year)|\n",
      "+----+-------------------+-------------------+-------------------+-------------------+-------------------+--------------------+---------+\n",
      "|1990| 0.3348390830039528| 0.3412443596837945|0.32872493280632425|0.33537290513834017|0.26991642292490087|1.7550174229249012E8|   1990.0|\n",
      "|2003| 0.3307461349206348|0.33649096428571457| 0.3251247341269843| 0.3311564642857142|0.28356080158730157| 2.826597333333333E8|   2003.0|\n",
      "|2007|  4.585324422310758|  4.645374227091633|  4.506589378486057|  4.581210864541833| 3.9227735418326684| 9.840477513944223E8|   2007.0|\n",
      "|2018|  47.27785866533861|  47.74852592828685| 46.795876565737025|  47.26335669721114|  45.51715897609561|1.3608025816733068E8|   2018.0|\n",
      "|2015| 30.043938484126986|  30.31113094841269|  29.71577382539683| 30.009999976190482| 27.372944134920637|2.0739761746031746E8|   2015.0|\n",
      "|2006|   2.53527176494024| 2.5692544302788836|  2.493227115537848| 2.5289513107569728| 2.1654762270916343| 8.593584302788844E8|   2006.0|\n",
      "|2022| 167.34263082456138| 169.58245605263156|  165.1268417894737|  167.4470177017544|   167.359496754386| 9.559610350877193E7|   2022.0|\n",
      "|2013|  16.89743334126985|  17.05853318650794|  16.72311088095239|   16.8798171547619|  14.78034690873016|          4.064348E8|   2013.0|\n",
      "|1988| 0.3710342094861658| 0.3766631343873518|0.36509212648221345| 0.3708842411067196|0.29250845454545443|1.6321335019762847E8|   1988.0|\n",
      "|1997|0.16100549011857684|0.16392965217391314|0.15740191699604736| 0.1604176679841897|0.13736153754940697| 2.844401581027668E8|   1997.0|\n",
      "|1994|0.30404032539682535|0.30992295634920597|0.29833209523809523| 0.3042905634920634|0.25595186111111107| 2.268091111111111E8|   1994.0|\n",
      "|2014|  23.05495757142858| 23.253166134920637|  22.86888462301588|  23.06616354365081|  20.68556082936508| 2.526109222222222E8|   2014.0|\n",
      "|2019| 51.967271698412695|  52.45792666666662| 51.567906757936534|  52.06398806349207|  50.93173515873015| 1.121227888888889E8|   2019.0|\n",
      "|2004| 0.6325262182539684| 0.6433829087301591| 0.6236543333333334| 0.6344097261904763| 0.5432288134920636| 4.833399555555556E8|   2004.0|\n",
      "|1991| 0.4683176758893279| 0.4770124743083004|0.45988322529644265|0.46870147826086955| 0.3813115019762846| 2.266705581027668E8|   1991.0|\n",
      "|1982|0.08544564426877467|0.08666537549407119|0.08462954940711465|0.08545888142292486|0.06679885375494067| 8.444667193675889E7|   1982.0|\n",
      "|1989| 0.3715632103174604| 0.3776794880952381|0.36588100793650824| 0.3719529682539681| 0.2961519246031747|2.0200724444444445E8|   1989.0|\n",
      "|1996|0.22364053149606278|0.22697775196850387| 0.2187896181102364|0.22249534645669278|0.19051707874015755|2.0942606614173228E8|   1996.0|\n",
      "|1998| 0.2724299523809524|0.27915958730158724| 0.2658636269841268| 0.2729004801587301|0.23367769841269828| 4.571198222222222E8|   1998.0|\n",
      "|1985| 0.0910572579365079|0.09202275793650787|0.08993676190476191|0.09023348809523808| 0.0705309126984127| 1.805248888888889E8|   1985.0|\n",
      "+----+-------------------+-------------------+-------------------+-------------------+-------------------+--------------------+---------+\n",
      "only showing top 20 rows\n",
      "\n"
     ]
    }
   ],
   "source": [
    "newdf.groupBy('Year').mean().show()"
   ]
  },
  {
   "cell_type": "code",
   "execution_count": 64,
   "id": "013cf05c",
   "metadata": {},
   "outputs": [],
   "source": [
    "result = newdf.groupBy('Year').mean().select(['Year', 'avg(Close)'])"
   ]
  },
  {
   "cell_type": "code",
   "execution_count": 65,
   "id": "97301fce",
   "metadata": {},
   "outputs": [
    {
     "name": "stdout",
     "output_type": "stream",
     "text": [
      "+----+---------------------+\n",
      "|Year|Average Closing Price|\n",
      "+----+---------------------+\n",
      "|1990|  0.33537290513834017|\n",
      "|2003|   0.3311564642857142|\n",
      "|2007|    4.581210864541833|\n",
      "|2018|    47.26335669721114|\n",
      "|2015|   30.009999976190482|\n",
      "|2006|   2.5289513107569728|\n",
      "|2022|    167.4470177017544|\n",
      "|2013|     16.8798171547619|\n",
      "|1988|   0.3708842411067196|\n",
      "|1997|   0.1604176679841897|\n",
      "|1994|   0.3042905634920634|\n",
      "|2014|    23.06616354365081|\n",
      "|2019|    52.06398806349207|\n",
      "|2004|   0.6344097261904763|\n",
      "|1991|  0.46870147826086955|\n",
      "|1982|  0.08545888142292486|\n",
      "|1989|   0.3719529682539681|\n",
      "|1996|  0.22249534645669278|\n",
      "|1998|   0.2729004801587301|\n",
      "|1985|  0.09023348809523808|\n",
      "+----+---------------------+\n",
      "only showing top 20 rows\n",
      "\n"
     ]
    }
   ],
   "source": [
    "new  = result.withColumnRenamed('avg(Close)', 'Average Closing Price')\n",
    "new.show()"
   ]
  },
  {
   "cell_type": "code",
   "execution_count": 66,
   "id": "77663d1a",
   "metadata": {},
   "outputs": [
    {
     "name": "stdout",
     "output_type": "stream",
     "text": [
      "+----+--------------------------+\n",
      "|Year|Average Closing Price (.2)|\n",
      "+----+--------------------------+\n",
      "|1990|                      0.34|\n",
      "|2003|                      0.33|\n",
      "|2007|                      4.58|\n",
      "|2018|                     47.26|\n",
      "|2015|                     30.01|\n",
      "|2006|                      2.53|\n",
      "|2022|                    167.45|\n",
      "|2013|                     16.88|\n",
      "|1988|                      0.37|\n",
      "|1997|                      0.16|\n",
      "|1994|                      0.30|\n",
      "|2014|                     23.07|\n",
      "|2019|                     52.06|\n",
      "|2004|                      0.63|\n",
      "|1991|                      0.47|\n",
      "|1982|                      0.09|\n",
      "|1989|                      0.37|\n",
      "|1996|                      0.22|\n",
      "|1998|                      0.27|\n",
      "|1985|                      0.09|\n",
      "+----+--------------------------+\n",
      "only showing top 20 rows\n",
      "\n"
     ]
    }
   ],
   "source": [
    "new.select(['Year', format_number('Average Closing Price', 2).alias('Average Closing Price (.2)')]).show()"
   ]
  },
  {
   "cell_type": "code",
   "execution_count": null,
   "id": "99076a9f",
   "metadata": {},
   "outputs": [],
   "source": []
  }
 ],
 "metadata": {
  "kernelspec": {
   "display_name": "Python 3 (ipykernel)",
   "language": "python",
   "name": "python3"
  },
  "language_info": {
   "codemirror_mode": {
    "name": "ipython",
    "version": 3
   },
   "file_extension": ".py",
   "mimetype": "text/x-python",
   "name": "python",
   "nbconvert_exporter": "python",
   "pygments_lexer": "ipython3",
   "version": "3.10.2"
  }
 },
 "nbformat": 4,
 "nbformat_minor": 5
}
