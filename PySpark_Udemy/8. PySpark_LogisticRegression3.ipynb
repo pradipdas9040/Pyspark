{
 "cells": [
  {
   "cell_type": "code",
   "execution_count": 1,
   "id": "40e8706e",
   "metadata": {},
   "outputs": [],
   "source": [
    "from pyspark.sql import SparkSession\n",
    "spark = SparkSession.builder.appName('logreg').getOrCreate()"
   ]
  },
  {
   "cell_type": "code",
   "execution_count": 2,
   "id": "cf618a58",
   "metadata": {},
   "outputs": [],
   "source": [
    "from pyspark.ml.classification import LogisticRegression"
   ]
  },
  {
   "cell_type": "code",
   "execution_count": 3,
   "id": "da5debb9",
   "metadata": {},
   "outputs": [],
   "source": [
    "df = spark.read.csv('customer_churn.csv', inferSchema=True, header=True)"
   ]
  },
  {
   "cell_type": "code",
   "execution_count": 4,
   "id": "653727d3",
   "metadata": {},
   "outputs": [
    {
     "name": "stdout",
     "output_type": "stream",
     "text": [
      "root\n",
      " |-- Names: string (nullable = true)\n",
      " |-- Age: double (nullable = true)\n",
      " |-- Total_Purchase: double (nullable = true)\n",
      " |-- Account_Manager: integer (nullable = true)\n",
      " |-- Years: double (nullable = true)\n",
      " |-- Num_Sites: double (nullable = true)\n",
      " |-- Onboard_date: timestamp (nullable = true)\n",
      " |-- Location: string (nullable = true)\n",
      " |-- Company: string (nullable = true)\n",
      " |-- Churn: integer (nullable = true)\n",
      "\n"
     ]
    }
   ],
   "source": [
    "df.printSchema()"
   ]
  },
  {
   "cell_type": "code",
   "execution_count": 5,
   "id": "bc3ef106",
   "metadata": {},
   "outputs": [
    {
     "data": {
      "text/plain": [
       "['Names',\n",
       " 'Age',\n",
       " 'Total_Purchase',\n",
       " 'Account_Manager',\n",
       " 'Years',\n",
       " 'Num_Sites',\n",
       " 'Onboard_date',\n",
       " 'Location',\n",
       " 'Company',\n",
       " 'Churn']"
      ]
     },
     "execution_count": 5,
     "metadata": {},
     "output_type": "execute_result"
    }
   ],
   "source": [
    "df.columns"
   ]
  },
  {
   "cell_type": "code",
   "execution_count": 6,
   "id": "11631cfd",
   "metadata": {},
   "outputs": [
    {
     "name": "stdout",
     "output_type": "stream",
     "text": [
      "+-------+-------------+-----------------+-----------------+------------------+-----------------+------------------+--------------------+--------------------+-------------------+\n",
      "|summary|        Names|              Age|   Total_Purchase|   Account_Manager|            Years|         Num_Sites|            Location|             Company|              Churn|\n",
      "+-------+-------------+-----------------+-----------------+------------------+-----------------+------------------+--------------------+--------------------+-------------------+\n",
      "|  count|          900|              900|              900|               900|              900|               900|                 900|                 900|                900|\n",
      "|   mean|         null|41.81666666666667|10062.82403333334|0.4811111111111111| 5.27315555555555| 8.587777777777777|                null|                null|0.16666666666666666|\n",
      "| stddev|         null|6.127560416916251|2408.644531858096|0.4999208935073339|1.274449013194616|1.7648355920350969|                null|                null| 0.3728852122772358|\n",
      "|    min|   Aaron King|             22.0|            100.0|                 0|              1.0|               3.0|00103 Jeffrey Cre...|     Abbott-Thompson|                  0|\n",
      "|    max|Zachary Walsh|             65.0|         18026.01|                 1|             9.15|              14.0|Unit 9800 Box 287...|Zuniga, Clark and...|                  1|\n",
      "+-------+-------------+-----------------+-----------------+------------------+-----------------+------------------+--------------------+--------------------+-------------------+\n",
      "\n"
     ]
    }
   ],
   "source": [
    "df.describe().show()"
   ]
  },
  {
   "cell_type": "code",
   "execution_count": 7,
   "id": "35631402",
   "metadata": {},
   "outputs": [],
   "source": [
    "from pyspark.ml.feature import VectorAssembler, VectorIndexer, OneHotEncoder, StringIndexer"
   ]
  },
  {
   "cell_type": "code",
   "execution_count": 8,
   "id": "df8f1bdc",
   "metadata": {},
   "outputs": [],
   "source": [
    "assembler = VectorAssembler(inputCols=['Age', 'Total_Purchase', 'Account_Manager', 'Years', 'Num_Sites'],\n",
    "                            outputCol='features')"
   ]
  },
  {
   "cell_type": "code",
   "execution_count": 9,
   "id": "6062e746",
   "metadata": {},
   "outputs": [],
   "source": [
    "output = assembler.transform(df)"
   ]
  },
  {
   "cell_type": "code",
   "execution_count": 10,
   "id": "9ea1af71",
   "metadata": {},
   "outputs": [],
   "source": [
    "final_data = output.select('features', 'churn')"
   ]
  },
  {
   "cell_type": "code",
   "execution_count": 11,
   "id": "d0d0395a",
   "metadata": {},
   "outputs": [],
   "source": [
    "train_data, test_data = final_data.randomSplit([.7, .3])"
   ]
  },
  {
   "cell_type": "code",
   "execution_count": 12,
   "id": "c046e394",
   "metadata": {},
   "outputs": [],
   "source": [
    "log_rig = LogisticRegression(labelCol='churn')"
   ]
  },
  {
   "cell_type": "code",
   "execution_count": 13,
   "id": "9c3abe44",
   "metadata": {},
   "outputs": [],
   "source": [
    "fit_model = log_rig.fit(train_data)"
   ]
  },
  {
   "cell_type": "code",
   "execution_count": 14,
   "id": "2a5bd2f6",
   "metadata": {},
   "outputs": [],
   "source": [
    "train_summary = fit_model.summary"
   ]
  },
  {
   "cell_type": "code",
   "execution_count": 15,
   "id": "7d8f0adb",
   "metadata": {},
   "outputs": [
    {
     "name": "stdout",
     "output_type": "stream",
     "text": [
      "+-------+-------------------+-------------------+\n",
      "|summary|              churn|         prediction|\n",
      "+-------+-------------------+-------------------+\n",
      "|  count|                651|                651|\n",
      "|   mean|0.16589861751152074| 0.1336405529953917|\n",
      "| stddev|0.37227564086668546|0.34052735547947927|\n",
      "|    min|                0.0|                0.0|\n",
      "|    max|                1.0|                1.0|\n",
      "+-------+-------------------+-------------------+\n",
      "\n"
     ]
    }
   ],
   "source": [
    "train_summary.predictions.describe().show()"
   ]
  },
  {
   "cell_type": "code",
   "execution_count": 16,
   "id": "f3ce1d2d",
   "metadata": {},
   "outputs": [],
   "source": [
    "from pyspark.ml.evaluation import BinaryClassificationEvaluator"
   ]
  },
  {
   "cell_type": "code",
   "execution_count": 17,
   "id": "17a26cff",
   "metadata": {},
   "outputs": [],
   "source": [
    "pred_and_label = fit_model.evaluate(test_data)"
   ]
  },
  {
   "cell_type": "code",
   "execution_count": 18,
   "id": "b639b948",
   "metadata": {},
   "outputs": [
    {
     "name": "stdout",
     "output_type": "stream",
     "text": [
      "+--------------------+-----+--------------------+--------------------+----------+\n",
      "|            features|churn|       rawPrediction|         probability|prediction|\n",
      "+--------------------+-----+--------------------+--------------------+----------+\n",
      "|[22.0,11254.38,1....|    0|[4.79710937546362...|[0.99181399321113...|       0.0|\n",
      "|[26.0,8787.39,1.0...|    1|[0.76557584834550...|[0.68256308478351...|       0.0|\n",
      "|[28.0,8670.98,0.0...|    0|[8.21627169401448...|[0.99972985234502...|       0.0|\n",
      "|[28.0,11245.38,0....|    0|[3.90517281480963...|[0.98026003882089...|       0.0|\n",
      "|[29.0,11274.46,1....|    0|[4.65205650720706...|[0.99054822976807...|       0.0|\n",
      "|[30.0,6744.87,0.0...|    0|[3.86257191848128...|[0.97941861095530...|       0.0|\n",
      "|[30.0,7960.64,1.0...|    1|[3.39931883509897...|[0.96768324043413...|       0.0|\n",
      "|[30.0,8677.28,1.0...|    0|[4.38670809183184...|[0.98771127310517...|       0.0|\n",
      "|[30.0,10744.14,1....|    1|[1.80088648074483...|[0.85825681155876...|       0.0|\n",
      "|[30.0,12788.37,0....|    0|[2.55539124763432...|[0.92793486959617...|       0.0|\n",
      "|[31.0,7073.61,0.0...|    0|[3.42413206465285...|[0.96845026882899...|       0.0|\n",
      "|[31.0,8688.21,0.0...|    0|[7.01704821809446...|[0.99910433516609...|       0.0|\n",
      "|[31.0,10182.6,1.0...|    0|[5.00671261699857...|[0.99335162748192...|       0.0|\n",
      "|[32.0,7896.65,0.0...|    0|[3.71729133439969...|[0.97627676882420...|       0.0|\n",
      "|[32.0,12479.72,0....|    0|[4.73005693937593...|[0.99125124773148...|       0.0|\n",
      "|[32.0,13630.93,0....|    0|[2.30892763458255...|[0.90961372778387...|       0.0|\n",
      "|[33.0,4711.89,0.0...|    0|[6.43807730302518...|[0.99840307520816...|       0.0|\n",
      "|[33.0,7720.61,1.0...|    0|[1.91536532378501...|[0.87162071509239...|       0.0|\n",
      "|[33.0,8556.73,0.0...|    0|[4.04663855021009...|[0.98281929886469...|       0.0|\n",
      "|[33.0,10306.21,1....|    0|[2.11324295384269...|[0.89218367631206...|       0.0|\n",
      "+--------------------+-----+--------------------+--------------------+----------+\n",
      "only showing top 20 rows\n",
      "\n"
     ]
    }
   ],
   "source": [
    "pred_and_label.predictions.show()"
   ]
  },
  {
   "cell_type": "code",
   "execution_count": 19,
   "id": "557fc01d",
   "metadata": {},
   "outputs": [],
   "source": [
    "my_eval = BinaryClassificationEvaluator(rawPredictionCol='prediction', labelCol='churn')"
   ]
  },
  {
   "cell_type": "code",
   "execution_count": 20,
   "id": "0bc8e117",
   "metadata": {},
   "outputs": [],
   "source": [
    "AUC = my_eval.evaluate(pred_and_label.predictions)"
   ]
  },
  {
   "cell_type": "code",
   "execution_count": 21,
   "id": "c137e724",
   "metadata": {},
   "outputs": [
    {
     "data": {
      "text/plain": [
       "0.7236024844720497"
      ]
     },
     "execution_count": 21,
     "metadata": {},
     "output_type": "execute_result"
    }
   ],
   "source": [
    "AUC"
   ]
  }
 ],
 "metadata": {
  "kernelspec": {
   "display_name": "Python 3 (ipykernel)",
   "language": "python",
   "name": "python3"
  },
  "language_info": {
   "codemirror_mode": {
    "name": "ipython",
    "version": 3
   },
   "file_extension": ".py",
   "mimetype": "text/x-python",
   "name": "python",
   "nbconvert_exporter": "python",
   "pygments_lexer": "ipython3",
   "version": "3.10.2"
  }
 },
 "nbformat": 4,
 "nbformat_minor": 5
}
