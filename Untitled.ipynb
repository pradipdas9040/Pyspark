{
 "cells": [
  {
   "cell_type": "code",
   "execution_count": 1,
   "id": "772dcabe-90cb-4689-93d2-c11c7d4731f5",
   "metadata": {},
   "outputs": [],
   "source": [
    "# To generate user file containing node ids\n",
    "import string\n",
    "with open(\"users1.txt\", \"w\") as output:\n",
    "    for i in range(1, 6302):\n",
    "        output.write(str(i) + '\\t' + str(i) + '\\n')"
   ]
  },
  {
   "cell_type": "code",
   "execution_count": 2,
   "id": "2fb043e6-2acc-4216-ad90-77f16ba860a3",
   "metadata": {},
   "outputs": [],
   "source": [
    "# To sort graphx output acc to rank \n",
    "with open(\"part-00000\", \"rt\") as openfile:\n",
    "    new_list = []\n",
    "    for line in openfile:\n",
    "        new_list.append(line.rstrip(\"()\\n\"))\n",
    "\n",
    "\n",
    "\n",
    "def my_sort(line):\n",
    "    line_fields = line.strip().split(',')\n",
    "    amount = float(line_fields[1])\n",
    "    return amount\n",
    "\n",
    "\n",
    "new_list.sort(key=my_sort, reverse = True)\n",
    "\n",
    "with open(\"graphx_scala.txt\", \"w\") as output:\n",
    "    for line in new_list:\n",
    "        output.write(line + '\\n')\n",
    "        "
   ]
  },
  {
   "cell_type": "code",
   "execution_count": null,
   "id": "4e29e386-a7d4-4265-85ea-d02448f3fcc7",
   "metadata": {},
   "outputs": [],
   "source": []
  }
 ],
 "metadata": {
  "kernelspec": {
   "display_name": "Python 3 (ipykernel)",
   "language": "python",
   "name": "python3"
  },
  "language_info": {
   "codemirror_mode": {
    "name": "ipython",
    "version": 3
   },
   "file_extension": ".py",
   "mimetype": "text/x-python",
   "name": "python",
   "nbconvert_exporter": "python",
   "pygments_lexer": "ipython3",
   "version": "3.9.12"
  }
 },
 "nbformat": 4,
 "nbformat_minor": 5
}
